{
 "cells": [
  {
   "cell_type": "code",
   "execution_count": 1,
   "metadata": {},
   "outputs": [],
   "source": [
    "! pip install -qU langgraph==0.2.14 langchain==0.2.14 langchain_openai==0.1.23 langchain_core==0.2.35 langchain-community"
   ]
  },
  {
   "cell_type": "code",
   "execution_count": 5,
   "metadata": {},
   "outputs": [],
   "source": [
    "from dotenv import load_dotenv\n",
    "import os\n",
    "import getpass\n",
    "import openai"
   ]
  },
  {
   "cell_type": "code",
   "execution_count": 12,
   "metadata": {},
   "outputs": [],
   "source": [
    "from langchain_core.prompts import ChatPromptTemplate\n",
    "from langchain_openai import ChatOpenAI\n",
    "from langchain.schema.output_parser import StrOutputParser\n",
    "from langchain_community.tools.arxiv.tool import ArxivQueryRun\n",
    "from langchain_community.tools.tavily_search import TavilySearchResults\n",
    "from langchain_core.runnables import RunnablePassthrough, RunnableLambda\n",
    "from operator import itemgetter\n",
    "from langchain_core.messages import HumanMessage, AIMessage\n",
    "from langgraph.prebuilt import ToolNode"
   ]
  },
  {
   "cell_type": "code",
   "execution_count": 7,
   "metadata": {},
   "outputs": [
    {
     "data": {
      "text/plain": [
       "True"
      ]
     },
     "execution_count": 7,
     "metadata": {},
     "output_type": "execute_result"
    }
   ],
   "source": [
    "load_dotenv()"
   ]
  },
  {
   "cell_type": "code",
   "execution_count": 9,
   "metadata": {},
   "outputs": [],
   "source": [
    "\n",
    "openai_chat_model=ChatOpenAI(model='gpt-4o-mini')"
   ]
  },
  {
   "cell_type": "code",
   "execution_count": 13,
   "metadata": {},
   "outputs": [],
   "source": [
    "\n",
    "# Setup tools\n",
    "tavily_tool = TavilySearchResults(max_results=5)\n",
    "tool_belt = [tavily_tool, ArxivQueryRun()]\n",
    "\n",
    "# Model with tools function\n",
    "def openai_chat_model_with_tools(input_data):\n",
    "    model = openai_chat_model.bind_tools(tool_belt)\n",
    "    if isinstance(input_data, dict):\n",
    "        message = [HumanMessage(content=input_data.get(\"question\", \"\"))]\n",
    "    else:\n",
    "        message = [HumanMessage(content=str(input_data))]\n",
    "    response = model.invoke(message)\n",
    "    return response\n",
    "\n",
    "# Tool routing function\n",
    "def route_to_tools(ai_message):\n",
    "    if isinstance(ai_message, AIMessage):\n",
    "        tool_response = ToolNode(tool_belt).invoke({\"messages\": [ai_message]})\n",
    "        return tool_response.get(\"messages\", [])\n",
    "    return []\n",
    "\n",
    "# Initial research prompt (for tool queries)\n",
    "tool_prompt = ChatPromptTemplate.from_messages([\n",
    "    (\"system\", \"\"\"You are a research assistant. Use the available tools to find information.\n",
    "    1. Use arxiv for academic papers\n",
    "    2. Use tavily for supplementary context\"\"\"),\n",
    "    (\"human\", \"{question}\")\n",
    "])\n",
    "\n",
    "# Final synthesis prompt\n",
    "research_prompt = ChatPromptTemplate.from_messages([\n",
    "    (\"system\", \"\"\"Synthesize the information from the tools and answer the question.\n",
    "    Include citations and structure your response clearly.\"\"\"),\n",
    "    (\"human\", \"\"\"Question: {question}\n",
    "    Context: {context}\"\"\")\n",
    "])\n",
    "\n",
    "# Chain construction\n",
    "def prepare_final_input(input_dict):\n",
    "    return {\n",
    "        \"question\": input_dict[\"question\"],\n",
    "        \"context\": input_dict.get(\"context\", \"No context available\")\n",
    "    }\n",
    "\n",
    "rag_chain_with_dynamic_access = (\n",
    "    {\n",
    "        \"context\": itemgetter(\"question\") \n",
    "        | tool_prompt \n",
    "        | openai_chat_model_with_tools \n",
    "        | route_to_tools,\n",
    "        \"question\": itemgetter(\"question\")\n",
    "    }\n",
    "    | RunnableLambda(prepare_final_input)\n",
    "    | research_prompt \n",
    "    | openai_chat_model_with_tools\n",
    "    | StrOutputParser()\n",
    ")"
   ]
  },
  {
   "cell_type": "code",
   "execution_count": 16,
   "metadata": {},
   "outputs": [
    {
     "data": {
      "text/plain": [
       "'/home/sahane/JasminLLC'"
      ]
     },
     "execution_count": 16,
     "metadata": {},
     "output_type": "execute_result"
    }
   ],
   "source": [
    "pwd"
   ]
  },
  {
   "cell_type": "code",
   "execution_count": 14,
   "metadata": {},
   "outputs": [],
   "source": [
    "# Test the chain\n",
    "response = rag_chain_with_dynamic_access.invoke({\n",
    "    \"question\": \"What does the 'context' in 'long context' refer to?\"\n",
    "})"
   ]
  },
  {
   "cell_type": "code",
   "execution_count": 15,
   "metadata": {},
   "outputs": [
    {
     "name": "stdout",
     "output_type": "stream",
     "text": [
      "('The term \"context\" in \"long context\" refers to the amount of information that a model can process and remember in a single prompt. Long-context models are designed to handle significantly larger '\n",
      " 'inputs compared to traditional models, allowing them to process hundreds of thousands to millions of tokens at once. This capability enables these models to analyze entire documents, books, or '\n",
      " 'large datasets effectively.\\n'\n",
      " '\\n'\n",
      " '1. **Definition of Long Context**: Long context means that the model can retain and utilize a substantial amount of information simultaneously. This is crucial for tasks that require comprehensive '\n",
      " 'understanding or analysis of extensive texts without losing relevant details (Source: [ZDNet](https://www.zdnet.com/article/what-does-a-long-context-window-mean-for-an-ai-model-like-gemini/)).\\n'\n",
      " '\\n'\n",
      " '2. **Enhanced Processing Capabilities**: Long-context language models simplify the analysis process by reducing the need for complex information retrieval techniques (like Retrieval Augmented '\n",
      " 'Generation - RAG). Instead, they can handle larger chunks of information directly, which places more responsibility on the model to process this information accurately (Source: [Louis '\n",
      " 'Bouchard](https://www.louisbouchard.ai/long-context-vs-rag/)).\\n'\n",
      " '\\n'\n",
      " '3. **Use Cases and Benefits**: These models are particularly beneficial for document processing, personalized AI assistants, and advanced multimodal applications. They enable improved accuracy and '\n",
      " 'understanding, making them suitable for complex reasoning tasks (Source: [Google Cloud](https://cloud.google.com/transform/the-prompt-what-are-long-context-windows-and-why-do-they-matter)).\\n'\n",
      " '\\n'\n",
      " '4. **Limitations and Considerations**: Although long contexts provide significant advantages, there are practical limitations. For instance, while these models can manage extensive inputs, there '\n",
      " 'are scenarios where using a context length over certain thresholds (like 64k tokens) may not be advisable, especially for one-time queries (Source: '\n",
      " '[Medium](https://medium.com/@mariealice.blete/decoding-the-long-context-craze-is-it-worth-the-hype-7e06141f915a)).\\n'\n",
      " '\\n'\n",
      " 'In summary, \"long context\" refers to the extensive information retention capabilities of certain AI models, facilitating improved performance in tasks that require processing large volumes of '\n",
      " 'data.')\n"
     ]
    }
   ],
   "source": [
    "from pprint import PrettyPrinter\n",
    "# Set width to fit your screen\n",
    "pp = PrettyPrinter(width=200, indent=2)\n",
    "\n",
    "pp.pprint(response)"
   ]
  }
 ],
 "metadata": {
  "kernelspec": {
   "display_name": "beyond-jupyter",
   "language": "python",
   "name": "python3"
  },
  "language_info": {
   "codemirror_mode": {
    "name": "ipython",
    "version": 3
   },
   "file_extension": ".py",
   "mimetype": "text/x-python",
   "name": "python",
   "nbconvert_exporter": "python",
   "pygments_lexer": "ipython3",
   "version": "3.12.3"
  }
 },
 "nbformat": 4,
 "nbformat_minor": 2
}
